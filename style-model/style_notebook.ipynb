{
  "nbformat": 4,
  "nbformat_minor": 0,
  "metadata": {
    "colab": {
      "provenance": [],
      "gpuType": "T4"
    },
    "kernelspec": {
      "name": "python3",
      "display_name": "Python 3"
    },
    "language_info": {
      "name": "python"
    },
    "accelerator": "GPU"
  },
  "cells": [
    {
      "cell_type": "code",
      "execution_count": null,
      "metadata": {
        "id": "4ArqbPo04kh0"
      },
      "outputs": [],
      "source": [
        "import pandas as pd\n",
        "import numpy as np\n",
        "import tensorflow as tf\n",
        "import matplotlib.pyplot as plt\n",
        "import seaborn as sns\n",
        "import os\n",
        "import shutil\n",
        "from google.colab import drive\n",
        "from google.colab import files\n",
        "\n",
        "from sklearn.model_selection import train_test_split\n",
        "\n",
        "from tensorflow.keras.preprocessing.image import load_img, img_to_array\n",
        "from tensorflow.keras.preprocessing.image import ImageDataGenerator\n",
        "from tensorflow.keras.models import Sequential\n",
        "from tensorflow.keras.layers import Conv2D, MaxPooling2D, Flatten, Dense\n",
        "from tensorflow.keras.applications import VGG16"
      ]
    },
    {
      "cell_type": "markdown",
      "source": [
        "# from GitHub"
      ],
      "metadata": {
        "id": "H-aBzfqe4ysz"
      }
    },
    {
      "cell_type": "code",
      "source": [
        "drive.mount('/content/drive')\n",
        "\n",
        "folder_path = '/content/drive/MyDrive'\n",
        "os.chdir(folder_path)\n",
        "\n"
      ],
      "metadata": {
        "id": "w6F18Nuk4z2F"
      },
      "execution_count": null,
      "outputs": []
    },
    {
      "cell_type": "code",
      "source": [
        "import zipfile\n",
        "\n",
        "with zipfile.ZipFile('PeopleArt-master.zip', 'r') as zip_ref:\n",
        "    zip_ref.extractall('/content')\n",
        "\n",
        "os.listdir('/content')"
      ],
      "metadata": {
        "id": "C8h3NMSst3mF"
      },
      "execution_count": null,
      "outputs": []
    },
    {
      "cell_type": "code",
      "source": [
        "styles = os.listdir('/content/PeopleArt-master/JPEGImages')"
      ],
      "metadata": {
        "id": "VVcJcUkX40iv"
      },
      "execution_count": null,
      "outputs": []
    },
    {
      "cell_type": "code",
      "source": [
        "styles"
      ],
      "metadata": {
        "id": "wuMl8ip5vA4a"
      },
      "execution_count": null,
      "outputs": []
    },
    {
      "cell_type": "code",
      "source": [
        "print(f'terdapat {len(styles)} style art')"
      ],
      "metadata": {
        "id": "07Tyeg6GwRsH"
      },
      "execution_count": null,
      "outputs": []
    },
    {
      "cell_type": "code",
      "source": [
        "directory_path = '/content/PeopleArt-master/JPEGImages'\n",
        "\n",
        "jumlah_file_per_style = [(style, len(os.listdir(os.path.join(directory_path, style)))) for style in styles]\n",
        "\n",
        "# Mengurutkan tuple berdasarkan jumlah_file dari yang terbanyak ke yang tersedikit\n",
        "sorted_styles = sorted(jumlah_file_per_style, key=lambda x: x[1], reverse=True)\n",
        "\n",
        "# Menampilkan hasil\n",
        "for style, jumlah_file in sorted_styles:\n",
        "    print(f\"Jumlah file dalam folder {style}: {jumlah_file}\")"
      ],
      "metadata": {
        "id": "JTkkYOH79ZUu"
      },
      "execution_count": null,
      "outputs": []
    },
    {
      "cell_type": "code",
      "source": [
        "# Menghapus 10 folder dengan jumlah file paling sedikit\n",
        "for folder, jumlah_file in sorted_styles[-16:]:\n",
        "    folder_path = os.path.join(directory_path, folder)\n",
        "    print(f\"Menghapus folder {folder} dengan isi file {jumlah_file}\")\n",
        "    shutil.rmtree(folder_path)"
      ],
      "metadata": {
        "id": "eYU1P3U_91kh"
      },
      "execution_count": null,
      "outputs": []
    },
    {
      "cell_type": "code",
      "source": [
        "OUTPUT = len(os.listdir('/content/PeopleArt-master/JPEGImages'))\n",
        "print(OUTPUT)\n",
        "TRAINING_DIR = \"/content/PeopleArt-master/JPEGImages\"\n",
        "training_datagen = ImageDataGenerator(\n",
        "        rescale=1./255,\n",
        "        horizontal_flip=True,\n",
        "        vertical_flip=True,\n",
        "        rotation_range=40,\n",
        "        shear_range=0.2,\n",
        "        width_shift_range=0.3,\n",
        "        height_shift_range=0.3,\n",
        "        validation_split=0.3\n",
        ")\n",
        "\n",
        "validation_datagen = ImageDataGenerator(\n",
        "        rescale=1./255,\n",
        "        validation_split=0.3\n",
        ")\n",
        "\n",
        "train_generator = training_datagen.flow_from_directory(\n",
        "        directory=TRAINING_DIR,\n",
        "        target_size=(224, 224),\n",
        "        subset='training',\n",
        "        class_mode='categorical'\n",
        ")\n",
        "\n",
        "validation_generator = validation_datagen.flow_from_directory(\n",
        "        directory=TRAINING_DIR,\n",
        "        target_size=(224, 224),\n",
        "        subset='validation',\n",
        "        class_mode='categorical'\n",
        ")"
      ],
      "metadata": {
        "id": "8CV-2QNWwsau"
      },
      "execution_count": null,
      "outputs": []
    },
    {
      "cell_type": "code",
      "source": [
        "# pakai vggnet16\n",
        "base_model = VGG16(weights='imagenet', include_top=False, input_shape=(224, 224, 3))\n",
        "# Freeze VGG16 layers\n",
        "for layer in base_model.layers:\n",
        "    layer.trainable = False"
      ],
      "metadata": {
        "id": "gWQuPrXqz9v3"
      },
      "execution_count": null,
      "outputs": []
    },
    {
      "cell_type": "code",
      "source": [
        "from tensorflow.keras.regularizers import l1, l2\n",
        "model = tf.keras.models.Sequential([\n",
        "    base_model,\n",
        "    # tf.keras.layers.Conv2D(16, (3,3), activation='relu', input_shape=(64, 64, 3)),\n",
        "    # tf.keras.layers.MaxPooling2D(2, 2),\n",
        "    # tf.keras.layers.Conv2D(64, (3,3), activation='relu'),\n",
        "    # tf.keras.layers.MaxPooling2D(2, 2),\n",
        "    tf.keras.layers.Flatten(),\n",
        "    tf.keras.layers.Dropout(0.5),\n",
        "    tf.keras.layers.Dense(128, activation='relu'),\n",
        "    tf.keras.layers.Dense(64, activation='relu'),\n",
        "    tf.keras.layers.Dense(32, activation='relu'),\n",
        "    tf.keras.layers.Dense(OUTPUT, activation='softmax'),\n",
        "])\n",
        "\n",
        "model.compile(\n",
        "        optimizer='adam',\n",
        "        loss='categorical_crossentropy',\n",
        "        metrics=['accuracy']\n",
        ")\n",
        "\n",
        "model.summary()"
      ],
      "metadata": {
        "id": "XGDh7kbEx8QR"
      },
      "execution_count": null,
      "outputs": []
    },
    {
      "cell_type": "code",
      "source": [
        "from tensorflow.keras.callbacks import ModelCheckpoint\n",
        "\n",
        "# Tentukan callback ModelCheckpoint\n",
        "checkpoint_path = '/content/best_model_epoch_{epoch:02d}_acc_{accuracy:.2f}_valaccuracy_{val_accuracy:.2f}.h5'\n",
        "model_checkpoint = ModelCheckpoint(checkpoint_path, save_best_only=True, monitor='val_accuracy', mode='max', verbose=1)\n",
        "\n",
        "# Kemudian, saat melatih model, sertakan callback ini dalam fungsi fit\n",
        "history = model.fit(\n",
        "    train_generator,\n",
        "    epochs=150,\n",
        "    validation_data=validation_generator,\n",
        "    callbacks=[model_checkpoint]\n",
        "\n",
        "    # callbacks=[callback]\n",
        "    # steps_per_epoch=len(train_generator),\n",
        "    # validation_steps=len(validation_generator)\n",
        "  )"
      ],
      "metadata": {
        "id": "7QdYljJ6ycUs"
      },
      "execution_count": null,
      "outputs": []
    },
    {
      "cell_type": "code",
      "source": [],
      "metadata": {
        "id": "9PttWzkbzKI0"
      },
      "execution_count": null,
      "outputs": []
    }
  ]
}